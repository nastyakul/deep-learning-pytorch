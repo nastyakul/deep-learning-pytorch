{
 "cells": [
  {
   "cell_type": "markdown",
   "metadata": {},
   "source": [
    "# Saving and Loading Models\n",
    "\n",
    "In this notebook, I'll show you how to save and load models with PyTorch. This is important because you'll often want to load previously trained models to use in making predictions or to continue training on new data."
   ]
  },
  {
   "cell_type": "code",
   "execution_count": 15,
   "metadata": {},
   "outputs": [],
   "source": [
    "%matplotlib inline\n",
    "%config InlineBackend.figure_format = 'retina'\n",
    "\n",
    "import matplotlib.pyplot as plt\n",
    "\n",
    "import torch\n",
    "from torch import nn\n",
    "from torch import optim\n",
    "import torch.nn.functional as F\n",
    "from torchvision import datasets, transforms\n",
    "\n",
    "import helper\n",
    "import fc_model"
   ]
  },
  {
   "cell_type": "code",
   "execution_count": 16,
   "metadata": {},
   "outputs": [],
   "source": [
    "# Define a transform to normalize the data\n",
    "transform = transforms.Compose([transforms.ToTensor(),\n",
    "                                transforms.Normalize((0.5,), (0.5,))])\n",
    "# Download and load the training data\n",
    "trainset = datasets.FashionMNIST('~/.pytorch/F_MNIST_data/', download=True, train=True, transform=transform)\n",
    "trainloader = torch.utils.data.DataLoader(trainset, batch_size=64, shuffle=True)\n",
    "\n",
    "# Download and load the test data\n",
    "testset = datasets.FashionMNIST('~/.pytorch/F_MNIST_data/', download=True, train=False, transform=transform)\n",
    "testloader = torch.utils.data.DataLoader(testset, batch_size=64, shuffle=True)"
   ]
  },
  {
   "cell_type": "markdown",
   "metadata": {},
   "source": [
    "Here we can see one of the images."
   ]
  },
  {
   "cell_type": "code",
   "execution_count": 17,
   "metadata": {},
   "outputs": [
    {
     "data": {
      "image/png": "[encoded data removed]",
      "text/plain": [
       "<Figure size 640x480 with 1 Axes>"
      ]
     },
     "metadata": {
      "image/png": {
       "height": 389,
       "width": 389
      }
     },
     "output_type": "display_data"
    }
   ],
   "source": [
    "image, label = next(iter(trainloader))\n",
    "helper.imshow(image[0,:]);"
   ]
  },
  {
   "cell_type": "markdown",
   "metadata": {},
   "source": [
    "# Train a network\n",
    "\n",
    "To make things more concise here, I moved the model architecture and training code from the last part to a file called `fc_model`. Importing this, we can easily create a fully-connected network with `fc_model.Network`, and train the network using `fc_model.train`. I'll use this model (once it's trained) to demonstrate how we can save and load models."
   ]
  },
  {
   "cell_type": "code",
   "execution_count": 18,
   "metadata": {},
   "outputs": [],
   "source": [
    "# Create the network, define the criterion and optimizer\n",
    "\n",
    "model = fc_model.Network(784, 10, [512, 256, 128])\n",
    "criterion = nn.NLLLoss()\n",
    "optimizer = optim.Adam(model.parameters(), lr=0.001)"
   ]
  },
  {
   "cell_type": "code",
   "execution_count": 19,
   "metadata": {},
   "outputs": [
    {
     "name": "stdout",
     "output_type": "stream",
     "text": [
      "Epoch: 1/5..  Training Loss: 1.685..  Test Loss: 1.015..  Test Accuracy: 0.610\n",
      "Epoch: 1/5..  Training Loss: 1.031..  Test Loss: 0.730..  Test Accuracy: 0.710\n",
      "Epoch: 1/5..  Training Loss: 0.851..  Test Loss: 0.678..  Test Accuracy: 0.750\n",
      "Epoch: 1/5..  Training Loss: 0.811..  Test Loss: 0.649..  Test Accuracy: 0.760\n",
      "Epoch: 1/5..  Training Loss: 0.761..  Test Loss: 0.611..  Test Accuracy: 0.763\n",
      "Epoch: 1/5..  Training Loss: 0.733..  Test Loss: 0.597..  Test Accuracy: 0.773\n",
      "Epoch: 1/5..  Training Loss: 0.702..  Test Loss: 0.578..  Test Accuracy: 0.779\n",
      "Epoch: 1/5..  Training Loss: 0.695..  Test Loss: 0.567..  Test Accuracy: 0.786\n",
      "Epoch: 1/5..  Training Loss: 0.665..  Test Loss: 0.565..  Test Accuracy: 0.787\n",
      "Epoch: 1/5..  Training Loss: 0.631..  Test Loss: 0.566..  Test Accuracy: 0.795\n",
      "Epoch: 1/5..  Training Loss: 0.615..  Test Loss: 0.533..  Test Accuracy: 0.803\n",
      "Epoch: 1/5..  Training Loss: 0.643..  Test Loss: 0.523..  Test Accuracy: 0.807\n",
      "Epoch: 1/5..  Training Loss: 0.576..  Test Loss: 0.518..  Test Accuracy: 0.809\n",
      "Epoch: 1/5..  Training Loss: 0.617..  Test Loss: 0.519..  Test Accuracy: 0.801\n",
      "Epoch: 1/5..  Training Loss: 0.617..  Test Loss: 0.503..  Test Accuracy: 0.818\n",
      "Epoch: 1/5..  Training Loss: 0.631..  Test Loss: 0.495..  Test Accuracy: 0.814\n",
      "Epoch: 1/5..  Training Loss: 0.615..  Test Loss: 0.510..  Test Accuracy: 0.812\n",
      "Epoch: 1/5..  Training Loss: 0.564..  Test Loss: 0.507..  Test Accuracy: 0.820\n",
      "Epoch: 1/5..  Training Loss: 0.592..  Test Loss: 0.490..  Test Accuracy: 0.819\n",
      "Epoch: 1/5..  Training Loss: 0.596..  Test Loss: 0.490..  Test Accuracy: 0.819\n",
      "Epoch: 1/5..  Training Loss: 0.570..  Test Loss: 0.498..  Test Accuracy: 0.816\n",
      "Epoch: 1/5..  Training Loss: 0.562..  Test Loss: 0.486..  Test Accuracy: 0.822\n",
      "Epoch: 1/5..  Training Loss: 0.584..  Test Loss: 0.477..  Test Accuracy: 0.827\n",
      "Epoch: 2/5..  Training Loss: 0.527..  Test Loss: 0.495..  Test Accuracy: 0.821\n",
      "Epoch: 2/5..  Training Loss: 0.571..  Test Loss: 0.488..  Test Accuracy: 0.820\n",
      "Epoch: 2/5..  Training Loss: 0.523..  Test Loss: 0.471..  Test Accuracy: 0.829\n",
      "Epoch: 2/5..  Training Loss: 0.547..  Test Loss: 0.475..  Test Accuracy: 0.831\n",
      "Epoch: 2/5..  Training Loss: 0.514..  Test Loss: 0.483..  Test Accuracy: 0.823\n",
      "Epoch: 2/5..  Training Loss: 0.522..  Test Loss: 0.474..  Test Accuracy: 0.828\n",
      "Epoch: 2/5..  Training Loss: 0.573..  Test Loss: 0.459..  Test Accuracy: 0.829\n",
      "Epoch: 2/5..  Training Loss: 0.537..  Test Loss: 0.469..  Test Accuracy: 0.826\n",
      "Epoch: 2/5..  Training Loss: 0.552..  Test Loss: 0.476..  Test Accuracy: 0.819\n",
      "Epoch: 2/5..  Training Loss: 0.555..  Test Loss: 0.452..  Test Accuracy: 0.835\n",
      "Epoch: 2/5..  Training Loss: 0.525..  Test Loss: 0.448..  Test Accuracy: 0.838\n",
      "Epoch: 2/5..  Training Loss: 0.516..  Test Loss: 0.442..  Test Accuracy: 0.840\n",
      "Epoch: 2/5..  Training Loss: 0.540..  Test Loss: 0.448..  Test Accuracy: 0.834\n",
      "Epoch: 2/5..  Training Loss: 0.510..  Test Loss: 0.436..  Test Accuracy: 0.840\n",
      "Epoch: 2/5..  Training Loss: 0.531..  Test Loss: 0.467..  Test Accuracy: 0.825\n",
      "Epoch: 2/5..  Training Loss: 0.544..  Test Loss: 0.436..  Test Accuracy: 0.843\n",
      "Epoch: 2/5..  Training Loss: 0.532..  Test Loss: 0.447..  Test Accuracy: 0.842\n",
      "Epoch: 2/5..  Training Loss: 0.503..  Test Loss: 0.445..  Test Accuracy: 0.836\n",
      "Epoch: 2/5..  Training Loss: 0.536..  Test Loss: 0.465..  Test Accuracy: 0.831\n",
      "Epoch: 2/5..  Training Loss: 0.485..  Test Loss: 0.451..  Test Accuracy: 0.837\n",
      "Epoch: 2/5..  Training Loss: 0.488..  Test Loss: 0.439..  Test Accuracy: 0.838\n",
      "Epoch: 2/5..  Training Loss: 0.489..  Test Loss: 0.431..  Test Accuracy: 0.844\n",
      "Epoch: 2/5..  Training Loss: 0.505..  Test Loss: 0.435..  Test Accuracy: 0.840\n",
      "Epoch: 3/5..  Training Loss: 0.513..  Test Loss: 0.445..  Test Accuracy: 0.838\n",
      "Epoch: 3/5..  Training Loss: 0.499..  Test Loss: 0.443..  Test Accuracy: 0.837\n",
      "Epoch: 3/5..  Training Loss: 0.504..  Test Loss: 0.460..  Test Accuracy: 0.830\n",
      "Epoch: 3/5..  Training Loss: 0.512..  Test Loss: 0.427..  Test Accuracy: 0.844\n",
      "Epoch: 3/5..  Training Loss: 0.516..  Test Loss: 0.429..  Test Accuracy: 0.844\n",
      "Epoch: 3/5..  Training Loss: 0.512..  Test Loss: 0.428..  Test Accuracy: 0.843\n",
      "Epoch: 3/5..  Training Loss: 0.509..  Test Loss: 0.434..  Test Accuracy: 0.835\n",
      "Epoch: 3/5..  Training Loss: 0.503..  Test Loss: 0.417..  Test Accuracy: 0.847\n",
      "Epoch: 3/5..  Training Loss: 0.516..  Test Loss: 0.418..  Test Accuracy: 0.852\n",
      "Epoch: 3/5..  Training Loss: 0.485..  Test Loss: 0.434..  Test Accuracy: 0.840\n",
      "Epoch: 3/5..  Training Loss: 0.490..  Test Loss: 0.421..  Test Accuracy: 0.848\n",
      "Epoch: 3/5..  Training Loss: 0.509..  Test Loss: 0.426..  Test Accuracy: 0.844\n",
      "Epoch: 3/5..  Training Loss: 0.510..  Test Loss: 0.432..  Test Accuracy: 0.838\n",
      "Epoch: 3/5..  Training Loss: 0.516..  Test Loss: 0.424..  Test Accuracy: 0.846\n",
      "Epoch: 3/5..  Training Loss: 0.468..  Test Loss: 0.441..  Test Accuracy: 0.837\n",
      "Epoch: 3/5..  Training Loss: 0.515..  Test Loss: 0.431..  Test Accuracy: 0.844\n",
      "Epoch: 3/5..  Training Loss: 0.473..  Test Loss: 0.428..  Test Accuracy: 0.843\n",
      "Epoch: 3/5..  Training Loss: 0.442..  Test Loss: 0.423..  Test Accuracy: 0.847\n",
      "Epoch: 3/5..  Training Loss: 0.528..  Test Loss: 0.416..  Test Accuracy: 0.849\n",
      "Epoch: 3/5..  Training Loss: 0.486..  Test Loss: 0.409..  Test Accuracy: 0.855\n",
      "Epoch: 3/5..  Training Loss: 0.457..  Test Loss: 0.419..  Test Accuracy: 0.852\n",
      "Epoch: 3/5..  Training Loss: 0.524..  Test Loss: 0.410..  Test Accuracy: 0.853\n",
      "Epoch: 3/5..  Training Loss: 0.487..  Test Loss: 0.424..  Test Accuracy: 0.844\n",
      "Epoch: 3/5..  Training Loss: 0.480..  Test Loss: 0.430..  Test Accuracy: 0.848\n",
      "Epoch: 4/5..  Training Loss: 0.471..  Test Loss: 0.409..  Test Accuracy: 0.852\n",
      "Epoch: 4/5..  Training Loss: 0.461..  Test Loss: 0.409..  Test Accuracy: 0.855\n",
      "Epoch: 4/5..  Training Loss: 0.477..  Test Loss: 0.418..  Test Accuracy: 0.850\n",
      "Epoch: 4/5..  Training Loss: 0.479..  Test Loss: 0.417..  Test Accuracy: 0.848\n",
      "Epoch: 4/5..  Training Loss: 0.463..  Test Loss: 0.423..  Test Accuracy: 0.846\n",
      "Epoch: 4/5..  Training Loss: 0.470..  Test Loss: 0.424..  Test Accuracy: 0.848\n",
      "Epoch: 4/5..  Training Loss: 0.460..  Test Loss: 0.418..  Test Accuracy: 0.847\n",
      "Epoch: 4/5..  Training Loss: 0.474..  Test Loss: 0.444..  Test Accuracy: 0.837\n",
      "Epoch: 4/5..  Training Loss: 0.482..  Test Loss: 0.414..  Test Accuracy: 0.851\n",
      "Epoch: 4/5..  Training Loss: 0.467..  Test Loss: 0.407..  Test Accuracy: 0.854\n",
      "Epoch: 4/5..  Training Loss: 0.485..  Test Loss: 0.414..  Test Accuracy: 0.847\n",
      "Epoch: 4/5..  Training Loss: 0.495..  Test Loss: 0.411..  Test Accuracy: 0.850\n",
      "Epoch: 4/5..  Training Loss: 0.447..  Test Loss: 0.418..  Test Accuracy: 0.849\n",
      "Epoch: 4/5..  Training Loss: 0.462..  Test Loss: 0.417..  Test Accuracy: 0.848\n",
      "Epoch: 4/5..  Training Loss: 0.458..  Test Loss: 0.421..  Test Accuracy: 0.851\n",
      "Epoch: 4/5..  Training Loss: 0.465..  Test Loss: 0.416..  Test Accuracy: 0.851\n",
      "Epoch: 4/5..  Training Loss: 0.468..  Test Loss: 0.416..  Test Accuracy: 0.849\n",
      "Epoch: 4/5..  Training Loss: 0.478..  Test Loss: 0.407..  Test Accuracy: 0.851\n",
      "Epoch: 4/5..  Training Loss: 0.444..  Test Loss: 0.414..  Test Accuracy: 0.850\n",
      "Epoch: 4/5..  Training Loss: 0.460..  Test Loss: 0.410..  Test Accuracy: 0.853\n",
      "Epoch: 4/5..  Training Loss: 0.495..  Test Loss: 0.430..  Test Accuracy: 0.844\n",
      "Epoch: 4/5..  Training Loss: 0.470..  Test Loss: 0.411..  Test Accuracy: 0.855\n",
      "Epoch: 4/5..  Training Loss: 0.451..  Test Loss: 0.409..  Test Accuracy: 0.852\n",
      "Epoch: 5/5..  Training Loss: 0.484..  Test Loss: 0.404..  Test Accuracy: 0.852\n",
      "Epoch: 5/5..  Training Loss: 0.422..  Test Loss: 0.398..  Test Accuracy: 0.856\n",
      "Epoch: 5/5..  Training Loss: 0.435..  Test Loss: 0.398..  Test Accuracy: 0.858\n",
      "Epoch: 5/5..  Training Loss: 0.451..  Test Loss: 0.397..  Test Accuracy: 0.858\n",
      "Epoch: 5/5..  Training Loss: 0.459..  Test Loss: 0.401..  Test Accuracy: 0.854\n",
      "Epoch: 5/5..  Training Loss: 0.439..  Test Loss: 0.416..  Test Accuracy: 0.848\n",
      "Epoch: 5/5..  Training Loss: 0.482..  Test Loss: 0.400..  Test Accuracy: 0.853\n",
      "Epoch: 5/5..  Training Loss: 0.472..  Test Loss: 0.407..  Test Accuracy: 0.844\n",
      "Epoch: 5/5..  Training Loss: 0.447..  Test Loss: 0.406..  Test Accuracy: 0.853\n",
      "Epoch: 5/5..  Training Loss: 0.459..  Test Loss: 0.402..  Test Accuracy: 0.854\n",
      "Epoch: 5/5..  Training Loss: 0.471..  Test Loss: 0.416..  Test Accuracy: 0.852\n"
     ]
    },
    {
     "name": "stdout",
     "output_type": "stream",
     "text": [
      "Epoch: 5/5..  Training Loss: 0.495..  Test Loss: 0.414..  Test Accuracy: 0.846\n",
      "Epoch: 5/5..  Training Loss: 0.429..  Test Loss: 0.398..  Test Accuracy: 0.856\n",
      "Epoch: 5/5..  Training Loss: 0.479..  Test Loss: 0.394..  Test Accuracy: 0.854\n",
      "Epoch: 5/5..  Training Loss: 0.472..  Test Loss: 0.397..  Test Accuracy: 0.857\n",
      "Epoch: 5/5..  Training Loss: 0.464..  Test Loss: 0.411..  Test Accuracy: 0.847\n",
      "Epoch: 5/5..  Training Loss: 0.473..  Test Loss: 0.408..  Test Accuracy: 0.851\n",
      "Epoch: 5/5..  Training Loss: 0.434..  Test Loss: 0.404..  Test Accuracy: 0.857\n",
      "Epoch: 5/5..  Training Loss: 0.457..  Test Loss: 0.396..  Test Accuracy: 0.857\n",
      "Epoch: 5/5..  Training Loss: 0.464..  Test Loss: 0.405..  Test Accuracy: 0.851\n",
      "Epoch: 5/5..  Training Loss: 0.482..  Test Loss: 0.410..  Test Accuracy: 0.856\n",
      "Epoch: 5/5..  Training Loss: 0.452..  Test Loss: 0.395..  Test Accuracy: 0.856\n",
      "Epoch: 5/5..  Training Loss: 0.461..  Test Loss: 0.411..  Test Accuracy: 0.854\n",
      "Epoch: 5/5..  Training Loss: 0.446..  Test Loss: 0.408..  Test Accuracy: 0.857\n"
     ]
    }
   ],
   "source": [
    "fc_model.train(model, trainloader, testloader, criterion, optimizer, epochs=5)"
   ]
  },
  {
   "cell_type": "markdown",
   "metadata": {},
   "source": [
    "## Saving and loading networks\n",
    "\n",
    "As you can imagine, it's impractical to train a network every time you need to use it. Instead, we can save trained networks then load them later to train more or use them for predictions.\n",
    "\n",
    "The parameters for PyTorch networks are stored in a model's `state_dict`. We can see the state dict contains the weight and bias matrices for each of our layers."
   ]
  },
  {
   "cell_type": "code",
   "execution_count": 6,
   "metadata": {},
   "outputs": [
    {
     "name": "stdout",
     "output_type": "stream",
     "text": [
      "Our model: \n",
      "\n",
      " Network(\n",
      "  (hidden_layers): ModuleList(\n",
      "    (0): Linear(in_features=784, out_features=512, bias=True)\n",
      "    (1): Linear(in_features=512, out_features=256, bias=True)\n",
      "    (2): Linear(in_features=256, out_features=128, bias=True)\n",
      "  )\n",
      "  (output): Linear(in_features=128, out_features=10, bias=True)\n",
      "  (dropout): Dropout(p=0.5, inplace=False)\n",
      ") \n",
      "\n",
      "The state dict keys: \n",
      "\n",
      " odict_keys(['hidden_layers.0.weight', 'hidden_layers.0.bias', 'hidden_layers.1.weight', 'hidden_layers.1.bias', 'hidden_layers.2.weight', 'hidden_layers.2.bias', 'output.weight', 'output.bias'])\n"
     ]
    }
   ],
   "source": [
    "print(\"Our model: \\n\\n\", model, '\\n')\n",
    "print(\"The state dict keys: \\n\\n\", model.state_dict().keys())"
   ]
  },
  {
   "cell_type": "markdown",
   "metadata": {},
   "source": [
    "The simplest thing to do is simply save the state dict with `torch.save`. For example, we can save it to a file `'checkpoint.pth'`."
   ]
  },
  {
   "cell_type": "code",
   "execution_count": 7,
   "metadata": {},
   "outputs": [],
   "source": [
    "torch.save(model.state_dict(), 'checkpoint.pth')"
   ]
  },
  {
   "cell_type": "markdown",
   "metadata": {},
   "source": [
    "Then we can load the state dict with `torch.load`."
   ]
  },
  {
   "cell_type": "code",
   "execution_count": 8,
   "metadata": {},
   "outputs": [
    {
     "name": "stdout",
     "output_type": "stream",
     "text": [
      "odict_keys(['hidden_layers.0.weight', 'hidden_layers.0.bias', 'hidden_layers.1.weight', 'hidden_layers.1.bias', 'hidden_layers.2.weight', 'hidden_layers.2.bias', 'output.weight', 'output.bias'])\n"
     ]
    }
   ],
   "source": [
    "state_dict = torch.load('checkpoint.pth')\n",
    "print(state_dict.keys())"
   ]
  },
  {
   "cell_type": "markdown",
   "metadata": {},
   "source": [
    "And to load the state dict in to the network, you do `model.load_state_dict(state_dict)`."
   ]
  },
  {
   "cell_type": "code",
   "execution_count": 9,
   "metadata": {},
   "outputs": [
    {
     "data": {
      "text/plain": [
       "<All keys matched successfully>"
      ]
     },
     "execution_count": 9,
     "metadata": {},
     "output_type": "execute_result"
    }
   ],
   "source": [
    "model.load_state_dict(state_dict)"
   ]
  },
  {
   "cell_type": "markdown",
   "metadata": {},
   "source": [
    "Seems pretty straightforward, but as usual it's a bit more complicated. Loading the state dict works only if the model architecture is exactly the same as the checkpoint architecture. If I create a model with a different architecture, this fails."
   ]
  },
  {
   "cell_type": "code",
   "execution_count": 10,
   "metadata": {},
   "outputs": [
    {
     "ename": "RuntimeError",
     "evalue": "Error(s) in loading state_dict for Network:\n\tsize mismatch for hidden_layers.0.weight: copying a param with shape torch.Size([512, 784]) from checkpoint, the shape in current model is torch.Size([400, 784]).\n\tsize mismatch for hidden_layers.0.bias: copying a param with shape torch.Size([512]) from checkpoint, the shape in current model is torch.Size([400]).\n\tsize mismatch for hidden_layers.1.weight: copying a param with shape torch.Size([256, 512]) from checkpoint, the shape in current model is torch.Size([200, 400]).\n\tsize mismatch for hidden_layers.1.bias: copying a param with shape torch.Size([256]) from checkpoint, the shape in current model is torch.Size([200]).\n\tsize mismatch for hidden_layers.2.weight: copying a param with shape torch.Size([128, 256]) from checkpoint, the shape in current model is torch.Size([100, 200]).\n\tsize mismatch for hidden_layers.2.bias: copying a param with shape torch.Size([128]) from checkpoint, the shape in current model is torch.Size([100]).\n\tsize mismatch for output.weight: copying a param with shape torch.Size([10, 128]) from checkpoint, the shape in current model is torch.Size([10, 100]).",
     "output_type": "error",
     "traceback": [
      "\u001b[0;31m---------------------------------------------------------------------------\u001b[0m",
      "\u001b[0;31mRuntimeError\u001b[0m                              Traceback (most recent call last)",
      "Cell \u001b[0;32mIn[10], line 4\u001b[0m\n\u001b[1;32m      2\u001b[0m model \u001b[38;5;241m=\u001b[39m fc_model\u001b[38;5;241m.\u001b[39mNetwork(\u001b[38;5;241m784\u001b[39m, \u001b[38;5;241m10\u001b[39m, [\u001b[38;5;241m400\u001b[39m, \u001b[38;5;241m200\u001b[39m, \u001b[38;5;241m100\u001b[39m])\n\u001b[1;32m      3\u001b[0m \u001b[38;5;66;03m# This will throw an error because the tensor sizes are wrong!\u001b[39;00m\n\u001b[0;32m----> 4\u001b[0m \u001b[43mmodel\u001b[49m\u001b[38;5;241;43m.\u001b[39;49m\u001b[43mload_state_dict\u001b[49m\u001b[43m(\u001b[49m\u001b[43mstate_dict\u001b[49m\u001b[43m)\u001b[49m\n",
      "File \u001b[0;32m~/opt/anaconda3/envs/deep-learning-pytorch/lib/python3.8/site-packages/torch/nn/modules/module.py:2041\u001b[0m, in \u001b[0;36mModule.load_state_dict\u001b[0;34m(self, state_dict, strict)\u001b[0m\n\u001b[1;32m   2036\u001b[0m         error_msgs\u001b[38;5;241m.\u001b[39minsert(\n\u001b[1;32m   2037\u001b[0m             \u001b[38;5;241m0\u001b[39m, \u001b[38;5;124m'\u001b[39m\u001b[38;5;124mMissing key(s) in state_dict: \u001b[39m\u001b[38;5;132;01m{}\u001b[39;00m\u001b[38;5;124m. \u001b[39m\u001b[38;5;124m'\u001b[39m\u001b[38;5;241m.\u001b[39mformat(\n\u001b[1;32m   2038\u001b[0m                 \u001b[38;5;124m'\u001b[39m\u001b[38;5;124m, \u001b[39m\u001b[38;5;124m'\u001b[39m\u001b[38;5;241m.\u001b[39mjoin(\u001b[38;5;124m'\u001b[39m\u001b[38;5;124m\"\u001b[39m\u001b[38;5;132;01m{}\u001b[39;00m\u001b[38;5;124m\"\u001b[39m\u001b[38;5;124m'\u001b[39m\u001b[38;5;241m.\u001b[39mformat(k) \u001b[38;5;28;01mfor\u001b[39;00m k \u001b[38;5;129;01min\u001b[39;00m missing_keys)))\n\u001b[1;32m   2040\u001b[0m \u001b[38;5;28;01mif\u001b[39;00m \u001b[38;5;28mlen\u001b[39m(error_msgs) \u001b[38;5;241m>\u001b[39m \u001b[38;5;241m0\u001b[39m:\n\u001b[0;32m-> 2041\u001b[0m     \u001b[38;5;28;01mraise\u001b[39;00m \u001b[38;5;167;01mRuntimeError\u001b[39;00m(\u001b[38;5;124m'\u001b[39m\u001b[38;5;124mError(s) in loading state_dict for \u001b[39m\u001b[38;5;132;01m{}\u001b[39;00m\u001b[38;5;124m:\u001b[39m\u001b[38;5;130;01m\\n\u001b[39;00m\u001b[38;5;130;01m\\t\u001b[39;00m\u001b[38;5;132;01m{}\u001b[39;00m\u001b[38;5;124m'\u001b[39m\u001b[38;5;241m.\u001b[39mformat(\n\u001b[1;32m   2042\u001b[0m                        \u001b[38;5;28mself\u001b[39m\u001b[38;5;241m.\u001b[39m\u001b[38;5;18m__class__\u001b[39m\u001b[38;5;241m.\u001b[39m\u001b[38;5;18m__name__\u001b[39m, \u001b[38;5;124m\"\u001b[39m\u001b[38;5;130;01m\\n\u001b[39;00m\u001b[38;5;130;01m\\t\u001b[39;00m\u001b[38;5;124m\"\u001b[39m\u001b[38;5;241m.\u001b[39mjoin(error_msgs)))\n\u001b[1;32m   2043\u001b[0m \u001b[38;5;28;01mreturn\u001b[39;00m _IncompatibleKeys(missing_keys, unexpected_keys)\n",
      "\u001b[0;31mRuntimeError\u001b[0m: Error(s) in loading state_dict for Network:\n\tsize mismatch for hidden_layers.0.weight: copying a param with shape torch.Size([512, 784]) from checkpoint, the shape in current model is torch.Size([400, 784]).\n\tsize mismatch for hidden_layers.0.bias: copying a param with shape torch.Size([512]) from checkpoint, the shape in current model is torch.Size([400]).\n\tsize mismatch for hidden_layers.1.weight: copying a param with shape torch.Size([256, 512]) from checkpoint, the shape in current model is torch.Size([200, 400]).\n\tsize mismatch for hidden_layers.1.bias: copying a param with shape torch.Size([256]) from checkpoint, the shape in current model is torch.Size([200]).\n\tsize mismatch for hidden_layers.2.weight: copying a param with shape torch.Size([128, 256]) from checkpoint, the shape in current model is torch.Size([100, 200]).\n\tsize mismatch for hidden_layers.2.bias: copying a param with shape torch.Size([128]) from checkpoint, the shape in current model is torch.Size([100]).\n\tsize mismatch for output.weight: copying a param with shape torch.Size([10, 128]) from checkpoint, the shape in current model is torch.Size([10, 100])."
     ]
    }
   ],
   "source": [
    "# Try this\n",
    "model = fc_model.Network(784, 10, [400, 200, 100])\n",
    "# This will throw an error because the tensor sizes are wrong!\n",
    "model.load_state_dict(state_dict)"
   ]
  },
  {
   "cell_type": "markdown",
   "metadata": {},
   "source": [
    "This means we need to rebuild the model exactly as it was when trained. Information about the model architecture needs to be saved in the checkpoint, along with the state dict. To do this, you build a dictionary with all the information you need to compeletely rebuild the model."
   ]
  },
  {
   "cell_type": "code",
   "execution_count": 20,
   "metadata": {},
   "outputs": [],
   "source": [
    "checkpoint = {'input_size': 784,\n",
    "              'output_size': 10,\n",
    "              'hidden_layers': [each.out_features for each in model.hidden_layers],\n",
    "              'state_dict': model.state_dict()}\n",
    "\n",
    "torch.save(checkpoint, 'checkpoint.pth')"
   ]
  },
  {
   "cell_type": "markdown",
   "metadata": {},
   "source": [
    "Now the checkpoint has all the necessary information to rebuild the trained model. You can easily make that a function if you want. Similarly, we can write a function to load checkpoints. "
   ]
  },
  {
   "cell_type": "code",
   "execution_count": 21,
   "metadata": {},
   "outputs": [],
   "source": [
    "def load_checkpoint(filepath):\n",
    "    checkpoint = torch.load(filepath)\n",
    "    model = fc_model.Network(checkpoint['input_size'],\n",
    "                             checkpoint['output_size'],\n",
    "                             checkpoint['hidden_layers'])\n",
    "    model.load_state_dict(checkpoint['state_dict'])\n",
    "    \n",
    "    return model"
   ]
  },
  {
   "cell_type": "code",
   "execution_count": 22,
   "metadata": {},
   "outputs": [
    {
     "name": "stdout",
     "output_type": "stream",
     "text": [
      "Network(\n",
      "  (hidden_layers): ModuleList(\n",
      "    (0): Linear(in_features=784, out_features=512, bias=True)\n",
      "    (1): Linear(in_features=512, out_features=256, bias=True)\n",
      "    (2): Linear(in_features=256, out_features=128, bias=True)\n",
      "  )\n",
      "  (output): Linear(in_features=128, out_features=10, bias=True)\n",
      "  (dropout): Dropout(p=0.5, inplace=False)\n",
      ")\n"
     ]
    }
   ],
   "source": [
    "model = load_checkpoint('checkpoint.pth')\n",
    "print(model)"
   ]
  },
  {
   "cell_type": "code",
   "execution_count": 25,
   "metadata": {},
   "outputs": [
    {
     "data": {
      "image/png": "[encoded data removed]",
      "text/plain": [
       "<Figure size 600x900 with 2 Axes>"
      ]
     },
     "metadata": {
      "image/png": {
       "height": 301,
       "width": 589
      }
     },
     "output_type": "display_data"
    }
   ],
   "source": [
    "model.eval()\n",
    "\n",
    "dataiter = iter(testloader)\n",
    "images, labels = next(dataiter)\n",
    "img = images[0]\n",
    "# Convert 2D image to 1D vector\n",
    "img = img.view(1, 784)\n",
    "\n",
    "# Calculate the class probabilities (softmax) for img\n",
    "with torch.no_grad():\n",
    "    output = model.forward(img)\n",
    "\n",
    "ps = torch.exp(output)\n",
    "\n",
    "# Plot the image and probabilities\n",
    "helper.view_classify(img.view(1, 28, 28), ps, version='Fashion')"
   ]
  },
  {
   "cell_type": "code",
   "execution_count": null,
   "metadata": {},
   "outputs": [],
   "source": []
  }
 ],
 "metadata": {
  "kernelspec": {
   "display_name": "Python 3 (ipykernel)",
   "language": "python",
   "name": "python3"
  },
  "language_info": {
   "codemirror_mode": {
    "name": "ipython",
    "version": 3
   },
   "file_extension": ".py",
   "mimetype": "text/x-python",
   "name": "python",
   "nbconvert_exporter": "python",
   "pygments_lexer": "ipython3",
   "version": "3.8.16"
  }
 },
 "nbformat": 4,
 "nbformat_minor": 2
}
